{
 "metadata": {
  "name": "",
  "signature": "sha256:49cbaa9c1730c080db0c636246c9cfdb60ebadf390e67b418cc65185db436cb4"
 },
 "nbformat": 3,
 "nbformat_minor": 0,
 "worksheets": []
}